{
 "cells": [
  {
   "cell_type": "markdown",
   "metadata": {},
   "source": [
    "![alt text](images/uspas.png)\n",
    "# Fundamentals of Accelerator Physics and Technology \n",
    "### (with Simulations and Measurements Lab)\n",
    "# Computer Lab: Simulated beam transport with quadrupole focusing\n",
    "##### Authors: K. Ruisard, N. Evans and V.S. Morozov\n",
    "\n",
    "## We will be simulating beam transport in simple beamlines. To do this, we will be running the Elegant code in the [Sirepo](https://beta.sirepo.com) environment. Questions to be turned in for credit are in **bold** and numbered.\n",
    "### Python Notes: \n",
    "- You wont need much python specific code for this lab, but here are some tips:\n",
    "- Press shift+enter to execute a cell, or use the play button at the top of the window\n",
    "- You can execute the whole notebook by using 'Run all cells' under the 'Run' tab. This will render all changes in Markdown (useful if you are entering answers directly into this worksheet)\n",
    "\n",
    "\n",
    "</br>\n",
    "Also helpful: Shift+right click brings up OS/browser right-click menu, can copy image or save.\n",
    "\n",
    "----------"
   ]
  },
  {
   "cell_type": "markdown",
   "metadata": {},
   "source": [
    "## 1. Setup\n",
    "\n",
    "At injection (or at the start of a simulation), there is an optimal spot-size and divergence for the beam known as the “matched condition.” In a periodic focusing structure (ie, FODO line), the matched solution will be periodic as well. \n",
    "\n",
    "We define the matched solution using the Twiss parameters $\\beta_x$, $\\beta_y$, $\\alpha_x$, $\\alpha_y$ (the spotsize and angular divergence are related to the Twiss parameters through the beam emittance). In this part of the exercise we will calculate matched beam properties for a simple FODO transport line and observe the difference in matched and unmatched transport.\n",
    "\n",
    "| Parameter  | Value  |   \n",
    "|---|---| \n",
    "| Species  | Electron  |  \n",
    "| Energy  | 1 GeV  |   \n",
    "|  X emittance | $\\epsilon_x = 6$ mm-mrad  |  \n",
    "|  Y emittance |  $\\epsilon_y = 6$ mm-mrad |  \n",
    "|  half-length of FODO cell | $L = 2.5$ m  |\n",
    "|  Quadrupole geometric strength | $K_1$ $= 0.6$ $m^{-2}$    |\n",
    "|  Quadrupole length | $L_{quad}$$=0.5$ m |\n",
    "\n",
    "\n",
    "1. Open simulation “FODObeamline.” \n",
    "> https://www.sirepo.com/elegant#/source/NYrwE02y \n",
    "\n",
    "    You will be prompted to open a copy of the simulation in your own Sirepo workspace. If this is your first time logging into Sirepo on your computer, you will first be asked to verify through email. After you've saved a copy, you can view all simulations in your workspace at https://www.sirepo.com/elegant.\n",
    "    \n",
    "    This simulates a simple beamline composed of a sequence of FODO cells: \n",
    "    - Focusing Quad \n",
    "    - Drift \n",
    "    - Defocusing Quad \n",
    "    - Drift\n",
    "\n",
    "  This simulation uses a matrix representation of all elements to propagate the Twiss parameters $\\beta_x$, $\\beta_y$, $\\alpha_x$, $\\alpha_y$, as well as propagate orbits for a collection of particles that represent the beam distribution. We’re using 5000 particles to represent the beam. \n",
    "\n",
    "\n",
    "2. At the top of the page, click the \"Control\" tab, and look at the options. \n",
    "\n",
    "  - The “twiss_output” module controls calculation of the Twiss parameters.\n",
    "  - The “bunched_beam” module tells Elegant to generate a beam. \n",
    "  - The “track” module tells Elegant to track it through the lattice. \n",
    "\n",
    "----"
   ]
  },
  {
   "cell_type": "markdown",
   "metadata": {},
   "source": [
    "## 2. Beamline Matching\n",
    "### A) Unmatched Beam \n",
    "\n",
    "Initially, the lattice functions are unmatched. We start with $\\beta_x = \\beta_y =$ 4 m, $\\alpha_x = \\alpha_y = 0$ mid-cell (between quadrupoles). \n",
    "\n",
    "Under the “Visualization” Tab: \n",
    "- Select \"FODOcell\" in the Beamline dropdown menu of the Simulation Status window.\n",
    "- Run the simulation by selecting “Start New Simulation.”\n",
    "- Scroll down to find the twiss “twiss_output”. You should see that the lattice functions $\\beta_x$, $\\beta_y$ propagated from the initial conditions are “unmatched\", i.e. the solutions are not periodic. \n",
    "- Similarly, look at the “sigma_output” plot. You should see that the RMS beam sizes S_x,S_y resemble $\\beta_x$, $\\beta_y$ but at a smaller, millimeter-level scale.\n"
   ]
  },
  {
   "cell_type": "markdown",
   "metadata": {
    "tags": []
   },
   "source": [
    "### B) Solving for matched solution\n",
    "\n",
    "In the “Control” tab: \n",
    "- Edit the twiss_output command. On page 1, change “Matched” from “No” to “Yes.” \n",
    "- This instructs Elegant to search for the matched condition. \n",
    "- Save changes and re-run your simulation. (Make sure you are running the beamline “FODOcell”)\n",
    "\n",
    "From the matched lattice function, we can calculate phase advance: \n",
    "- $\\psi_x=\\int \\frac{ds}{\\beta_x(s)}$\n",
    "- Thankfully, Elegant calculates this for you. \n",
    "\n",
    "**Q0) In the next cell, calculate the X and Y phase advances for the single FODO cell. (Search for nux and nuy under “Output Parameters” and recall $\\psi=\\nu*2\\pi$)**\n",
    "\n",
    "Note that Elegant displays units as $1/(2\\pi)$. This is meant to indicate that the tune is the number of oscillations divided by one revolution. In this case, 1 revolution is equal to 1 pass through the single FODO cell. There is no need to multiply or divide by $2\\pi$ in your answer."
   ]
  },
  {
   "cell_type": "markdown",
   "metadata": {},
   "source": [
    "$\\psi_x$ = \n",
    "\n",
    "$\\psi_y$ = "
   ]
  },
  {
   "cell_type": "markdown",
   "metadata": {},
   "source": [
    "These are the “phase advance per cell,” which is an important metric for characterizing transport properties of any periodic lattice. The phase advance has to be chosen to avoid instabilities and resonant conditions.\n",
    "Syphers exercise 3.12 derives these expressions for maximum and minimum betatron function for a FODO lattice in the thin-lens approximation: \n",
    "\n",
    "$\\beta_{max}=L \\frac{1 + sin( \\psi/2)}{sin \\psi}$\n",
    "\n",
    "$\\beta_{min}=L \\frac{1 - sin(\\psi/2)}{sin \\psi}$\n",
    "\n",
    "\n",
    "Answer the following questions:"
   ]
  },
  {
   "cell_type": "markdown",
   "metadata": {},
   "source": [
    "**Q1) For this cell, calculate $\\beta_{min}$ and $\\beta_{max}$ in two ways:**\n",
    "- A) thin lens prediction\n",
    "- B) using elegant (look at twiss_output plot or \"Output Parameters\" list)\n",
    "\n",
    "The answer to (A) and (B) should be quite close, but slightly different. \n",
    "\n",
    "**Q2) If you increased the length of the quadrupole elements while holding both the cell length L and the phase advance $\\psi$ fixed, will the difference between (A) and (B) get larger or smaller?  Explain your reasoning.**\n",
    "\n",
    "Note: by keeping L and $\\psi$ fixed, we fix the average focusing strength per unit length.\n",
    "\n"
   ]
  },
  {
   "cell_type": "markdown",
   "metadata": {},
   "source": [
    "**Q3) What are the average, max and min RMS beam spot sizes for a matched beam in this lattice?**\n",
    "- Use the calculated Twiss parameters and recall that transverse size is $\\sigma_x=\\sqrt{\\beta_x \\epsilon_x}$ \n",
    "- Hint: click on plot points to display values"
   ]
  },
  {
   "cell_type": "markdown",
   "metadata": {},
   "source": [
    "\n",
    "\n",
    "| X dimension           | Value |   Y dimension          | Value|\n",
    "|-----------------------|-------|------------------------|------|\n",
    "| $<\\sigma_x>_s$        | ..... |   $<\\sigma_y>_s$       | .... |\n",
    "| max $\\sigma_x (s)= $  | ..... |  max $\\sigma_y (s)= $  | .... | \n",
    "| min $\\sigma_x (s) = $ | ..... |  min $\\sigma_y (s) = $ | .... | \n",
    "| max⁡ $\\left( \\frac{\\sigma_{x}}{\\sigma_{y}}\\right)$ | ..... | "
   ]
  },
  {
   "cell_type": "markdown",
   "metadata": {},
   "source": [
    "**Q4) Where along the lattice is the beam round? Where is it largest and smallest in the horizontal plane? In the vertical plane? Give your answer in s (meters) and in terms of elements (Focusing quad, de-focusing quad, drift)**\n",
    "\n",
    "| condition                     | location in s (meters) |   Lattice element      | \n",
    "|-----------------------        |-------                 |------------------------|\n",
    "| round ($\\sigma_x = \\sigma_y$) | ...                    |   ...                  |\n",
    "| max $\\sigma_x (s) $           | ...                    |   ...                  | \n",
    "| min $\\sigma_x (s) $           | ...                    |   ...                  | \n",
    "| max $\\sigma_y (s) $           | ...                    |   ...                  | \n",
    "| min $\\sigma_y (s) $           | ...                    |   ...                  | \n",
    "\n",
    "\n",
    "This variation of the matched envelope size along the beamline is characteristic of alternating gradient quadrupole focusing. There are other patterns used for quadrupole focusing, but the FODO arrangement is popular due to simplicity and good efficiency of focusing (small beam size per applied quadrupole field strength).\n",
    "\n",
    "\n"
   ]
  },
  {
   "cell_type": "markdown",
   "metadata": {},
   "source": [
    "### C) Matched beam propagation down FODO beamline\n",
    "\n",
    "Now extend your simulation. The lattice “FODObeamline” has 20 repetitions of the same FODO cell. \n",
    "\n",
    "Under the Visualization tab: \n",
    "- Select “FODObeamline” in the Beamline drop-down menu in the top left\n",
    "- Simulate the beam in this longer (100 m) lattice. \n",
    "- Note the periodicity of the beam envelope in both the twiss_output plot (showing beta functions) and the run_setup.sigma plot (showing rms size). \n",
    "\n",
    "**Q5) Confirm that the tune of this lattice is consistent with the 1-cell solution:**    "
   ]
  },
  {
   "cell_type": "markdown",
   "metadata": {},
   "source": [
    "Tune and phase advance over 100 meters:\t\n",
    "\n",
    "$\\nu_x= $  \n",
    "\n",
    "$\\nu_y= $\n",
    "\n",
    "$\\psi_x = $ \n",
    "\n",
    "$\\psi_y = $ "
   ]
  },
  {
   "cell_type": "markdown",
   "metadata": {},
   "source": [
    "Tune and phase advance for 1 cell: \n",
    "\n",
    "$\\nu_x / 20 = $  \n",
    "\n",
    "$\\nu_y / 20 = $\n",
    "\n",
    "$\\psi_x / 20 =$ \n",
    "\n",
    "$\\psi_y /20 = $"
   ]
  },
  {
   "cell_type": "markdown",
   "metadata": {},
   "source": [
    "**Q6) How many oscillations does a single particle make in 100 m?**\n",
    "\n",
    "You can calculate this easily, but you can also visualize single particle motion by giving the initial beam a centroid error. The centroid follows the equations of motion of a single particle. \n",
    "\n",
    "In Sirepo/elegant, under \"Control\" tab, \"Bunched Beam\" module, Page 5 you will see options for introducing a centroid offset. Under \"Visualization\" tab, look at the “run_setup.centroid” plot and count the approximate number of oscillations in the centroid. If you plot the centroid, you may need to adjust the plot axis.\n"
   ]
  },
  {
   "cell_type": "markdown",
   "metadata": {},
   "source": [
    "### D) Propagation of mismatched beam\n",
    "\n",
    "We will initialize our beam with a 10% mismatch and examine the effect this has on transport.  \n",
    "The previous visualization gave a periodic solution with $\\beta_x = \\beta_y = 7.206$ meters and $\\alpha_x = -\\alpha_y = -1.146$. \n",
    "- You can verify $\\beta$ and $\\alpha$ by interacting with the twiss_output plot (or downloading and viewing the data in CSV format). \n",
    "\n",
    "Under the “Control” Tab: \n",
    "- In the \"twiss_output\" module:\n",
    "  - Set \"Matched\" to \"No\" on page 1.\n",
    "- In the “bunched_beam” module: \n",
    "  - Set \"Use Twiss Command Values\" to \"No\" on page 3.\n",
    "  - Set the centroid offset back to zero on page 5.\n",
    "  - Initialize a mismatched beam, by setting the following fields on pages 1 and 2 (Note: this setting takes precedence over the Twiss function values specified in the \"twiss_output\" module):\n",
    "\n",
    "| Parameter  | Value  |   \n",
    "|---|---| \n",
    "|  Beta X  | 7.206 * 1.1 |  \n",
    "|  Alpha X | -1.146 |  \n",
    "|  Beta Y  | 7.206 * 1.1  |\n",
    "|  Alpha Y | 1.146 | \n",
    "\n",
    "You should observe that the envelope solution is not longer periodic with the cell length (5 m), but “beats”/ oscillates about the matched, stationary solution. "
   ]
  },
  {
   "cell_type": "markdown",
   "metadata": {},
   "source": [
    "**Q7) Count the (approximate) number of envelope mismatch oscillations over the 100 meter beamline. Write your answer here:** \n",
    "\n",
    "Remember, this is not the number of $\\sigma_x$ extrema. We want to look at oscillation around the matched envelope solution. The matched solution has a period that matches the length of the FODO cell. The envelope mismatch oscillation has a much longer period. \n",
    "\n",
    "Using the smooth approximation (constant focusing), we expect the frequency of the envelope oscillation to be twice that of single particle oscillation: $\\nu_{envelope} = 2 \\nu$. \\\n",
    "**The second part of (Q7): Does your answer from simulation agree with this theoretical prediction?**"
   ]
  },
  {
   "cell_type": "markdown",
   "metadata": {},
   "source": [
    "### E) Matched solution with decreased quadrupole strength\n",
    "\n",
    "Now we will look at what happens to the matched solution when we reduce the strength of quadrupole focusing. We will reduce the quadrupole strength but hold the emittance fixed. If we consider the RMS envelope equation:\n",
    "\n",
    "$\\frac{d^2 \\sigma_x}{ds^2}=-K_x \\sigma_x+  \\frac{\\epsilon_x^2}{\\sigma_x^3}$\n",
    "\n",
    "With weaker quadrupoles, the relative strength of the focusing term (proportional to K) against the defocusing emittance term (proportional to $\\epsilon$) is less.\n",
    "\n",
    "Predict what effect you expect the weaker focusing will have on the matched solution. Will the average beam size along the cell get larger or smaller? Will the aspect ratio between $\\sigma_x$ and $\\sigma_y$ inside the quadrupoles get larger or smaller?\n",
    "\n",
    "1. Construct a new FODO cell with weaker focusing.\\\n",
    "Under the \"Lattice\" tab \"Beamlines\" box click \"New Beamline.\" We will name this new cell \"FODOcell2.\"\n",
    "\\\n",
    "Make \"FODOcell2\" identical to \"FODOcell\" except with change $|k1|=0.6 m^{-2}$ to $|k1|=0.2 m^{-2}$ for both quadrupoles.\n",
    "\\\n",
    "<font color='red'> Important: Do not edit \"FODOcell\" or the quads \"QD\" or \"QF.\"</font> \\\n",
    "In addition to a new beamline, make new quads under \"Beamline Elements\" to use in your new cell.\\\n",
    "You can re-use the drift elements. \\\n",
    "Hint: you can create \"FODOcell2\" and new quads by making copies of \"FODOcell\" and the existing quads with new names and modifying the parameters of the copies.\n",
    "\n",
    "2. Simulate bunch evolution through \"FODOcell2\" \\\n",
    "Ask Elegant to calculate the matched beam: \n",
    "  - \"Control\" tab, \"twiss_output\" command, Page 1, set \"Matched\" = \"Yes\".\n",
    "  - \"Control\" tab, \"bunched_beam\" command, Page 3, set \"Use Twiss Command Values\" = \"Yes\".\n",
    "\n",
    "  Make sure to select \"FODOcell2\" from the dropdown menu in the \"Visualization\" tab.\n",
    "\n",
    "\n",
    "\n",
    "\n",
    "\n",
    "\n",
    "\n"
   ]
  },
  {
   "cell_type": "markdown",
   "metadata": {},
   "source": [
    "**Q8) Record the following parameters for the matched solution in the new FODO cell:** \n",
    "\n",
    "| X dimension           | Value |   Y dimension          | Value|\n",
    "|-----------------------|-------|------------------------|------|\n",
    "| $<\\sigma_x>_s=$        | ..... |   $<\\sigma_y>_s=$       | ..... |\n",
    "| max $\\sigma_x (s)= $  | ..... |  max $\\sigma_y (s)= $  | ..... | \n",
    "| min $\\sigma_x (s) = $ | ..... |  min $\\sigma_y (s) = $ | ..... | \n",
    "| max⁡ $\\left( \\frac{\\sigma_{x}}{\\sigma_{y}}\\right)=$ | ..... | | |\n",
    "| $\\psi_x=$ | ..... | $\\psi_y =$ | ..... |\n",
    "\n"
   ]
  },
  {
   "cell_type": "markdown",
   "metadata": {},
   "source": [
    "### F) Injection mismatch"
   ]
  },
  {
   "cell_type": "markdown",
   "metadata": {},
   "source": [
    "Accelerator complexes can contain many sections, where the focusing strength and quadrupole arrangement can be quite different between sections. We will consider a simplified version of this. We will first transport beam through a beamline comprised of 10 of our original \"FODOcell,\" then transition into a second line comprised of 10 weaker focusing copies of \"FODOcell2.\"  \n",
    "\n",
    "1. Set the focusing strength in \"FODOcell2\" to be closer to (but still weaker than) the focusing in \"FODOcell.\" Set the strength of each quadrupole in \"FODOcell2\" to be $|k1|=0.5 m^{-2}$.\n",
    "\n",
    "2. Make the hybrid beamline.\\\n",
    "In \"FODObeamline\", first delete 10 instances of \"FODOcell.\"\\\n",
    "Then, add 10 instances of \"FODOcell2\" to the end of the beamline.\n",
    "\n",
    "3. Simulate beam evoution through \"FODObeamline\" \\\n",
    "First, Set Matched=No under the \"twiss_output\" command. \\\n",
    "Also, set the initial Twiss parameters in \"bunched_beam\" to the matched value found for \"FODOcell\": \\\n",
    "$\\beta_x = \\beta_y = 7.206$ meters and $\\alpha_x = -\\alpha_y = -1.146$\n"
   ]
  },
  {
   "cell_type": "markdown",
   "metadata": {},
   "source": [
    "**Q9) Describe what happens as the beam transitions from the stronger to the weaker FODO cell. Is the beam matched in the first 10 cells? What about the last 10 cells?**"
   ]
  },
  {
   "cell_type": "markdown",
   "metadata": {},
   "source": [
    "4. Find the periodic solution for this hybrid beamline.\\\n",
    "Let Elegant do this for you by setting Matched=Yes and re-running the simulation."
   ]
  },
  {
   "cell_type": "markdown",
   "metadata": {},
   "source": [
    "**Q10) Is this new solution matched over the period $L=100$ m (the length of \"FODObeamline\")?\\\n",
    "Is this solution matched for the period $L=5$ m? (the length of a single FODO cell)?\\\n",
    "Does there exist a solution that is matched for period $L=5$ m in all 20 cells?**\n",
    "\n",
    "Note that the matched solution is defined by the length over which a periodic solution is found. When accelerator scientists refer to the matched solution, it is usually implied that we mean for the shortest focusing period (e.g., the FODO cell). \\\n",
    "Also note that the maximum $\\sigma_x$ for the matched solution from step 4 is larger than the maximum $\\sigma_x$ for both matched FODO cells found above. A strong motivation for maintaining matched beams is to keep this maximum size as small as possible during beam transport. "
   ]
  },
  {
   "cell_type": "markdown",
   "metadata": {},
   "source": [
    "### G) Matching section insert\n",
    "We earlier studied beam transport in a FODO cell. However, an accelerator consists of not only FODO cells. There may be injection and extraction sections, experimental insertions, etc. For example, in a collider, the beam is usually much smaller at the interaction point than elsewhere in the accelerator. \n",
    "\n",
    "The typical strategy to transition beam between sections of the accelerator while maintaining optimal transport is to add a matching section. This section contains quadrupoles whose strengths are optimized to transition the output bunch parameters $\\alpha, \\beta$ from the first section into the optimal (matched) parameters for the next section. A matching section can also be used to customize the beam parameters in a specific part of the accelerator.\n",
    "\n",
    "In this exercise, we will be designing an injection section. The beam at injection is typically round and has independent distribtions of all phase-space coordinates. You have already seen from the FODO exercises that the beam distribution everywhere inside a FODO cell is not round and/or has non-zero correlation between the spatial and angular coordinates. We need to design a beamline section that takes the particle distribution at the end of the FODO cell and transforms it into a spatially round uncorrelated distribution. \n",
    "\n",
    "Open simulation “fodo2roundmatch.” Copy it to your own session (there should be a prompt).\n",
    "> https://www.sirepo.com/elegant#/source/3fEOObZi\n",
    "\n",
    "In the \"bunched_beam\" module under the \"Control\" tab:\n",
    "- Set Twiss $\\beta_{x,y}$ and $\\alpha_{x,y}$ to those at the end of the FODO cell.\n",
    "Note: this setting takes precedence over the Twiss function values specified in the \"twiss_output\" module in the \"Commands\" list.\n",
    "\n",
    "Under “Lattice” tab, construct a matching section\n",
    "- Define 4 new quadrupoles with unique names \n",
    "  - Click \"+ New Element\" in the \"Beamline Elements\" window of the \"Lattice\" tab.\n",
    "  - Use the same length as the FODO quads. \n",
    "  - Use the same initial strengths as of the FODO quads alternating the strength signs in the \"+-+-\" pattern.\n",
    "- Hover your mouse over the  in the \"MATCHsection\" beamline in the \"Beamlines\" window and click \"Edit\". \n",
    "- Add drifts and the 4 new quadrupoles to \"MATCHsection\" starting with a 1 m drift and continuing with the quadrupoles each followed by a 2 m drift including the last one. Make sure to maintain the \"+-+-\" alternating pattern of the quadrupole strengths in the lattice.\n",
    "- Define and insert a \"MARK\" element at the end of the section. Make sure to set the \"FITPOINT\" option in the element definition to \"YES\".\n",
    "\n",
    "Switch to the “Control” tab:  \n",
    "- Add the strengths of quads 2-4 as \"optimization_variable\" following the example setup for quad 1. The example assumes that the first quadrupoles is named \"QM1\". \n",
    "  - Note: make sure that the new \"optimization_variable\" definitions follow immediately after the example one.\n",
    "- Assuming that the horizontal and vertical emittances of the injected beam are equal, we would like to have equal horizontal and vertical beta functions at the end of the matching section: $\\beta_x = \\beta_y$. To have no correlation between the spatial and angular coordinates, the Twiss alpha functions have to be zero at the end of the section: $\\alpha_x = 0$ and $\\alpha_y =0$. Add the $\\beta_x = \\beta_y$ and $\\alpha_y =0$ constraints as \"optimization_term\"s following the example of that for $\\alpha_x = 0$. The example assumes that the \"MARK\" element at the end of \"MATCHsection\" is named \"M1\".\n",
    "  - Note: make sure that the new \"optimization_term\" definitions follow immediately after the example one.\n",
    "  - Hint: the optimization condition is defined using Reverse Polish notation \"Argument1 Argument2... Function\".\n",
    "  - Hint: consult Elegant manual for the meaning and syntax of the \"sene\" function.\n",
    "\n",
    "Under “Visualization” tab:\n",
    "- Make sure to select \"MATCHsection\" in the \"Beamline\" menu.\n",
    "- Run the simulation."
   ]
  },
  {
   "cell_type": "markdown",
   "metadata": {},
   "source": [
    "**Q11) Attach graphs of the input and output xx' distributions.**\n",
    "- Hint: the graphs can be found under the \"Source\" and \"Visualization\" tabs. \n",
    "- Hint: you can save the graphs and insert them into your solution notebook following the example of how the USPAS logo image is embedded into this notebook.\n",
    "\n",
    "**Q12) Attach graphs of $\\beta_{x,y}$ before and after optimization.**\n",
    "- Hint: the graphs can be found under the \"Visualization\" tab in the \"twiss_output\" and \"twiss_output2\" windows.\n",
    "\n",
    "**Q13) What are the final values of $\\beta_{x,y}$ at the end of \"MATCHsection\"?**\n",
    "- Hint: you can click on the curves in the graphs under the \"Visualization\" tab and look up the values or examine the Elegant log file in the \"Simulation Status\" section of the tab.\n",
    "\n",
    "**Q14) What are the optimized strengths of the quads in \"MATCHsection\"?**\n",
    "- Hint: examine \"save_lattice.filename.lte\" available from the \"File\" dropdown menu of the \"Output Parameters\" window under the \"Visualization\" tab or the Elegant log file in the \"Simulation Status\" window of the tab.\n",
    "\n",
    "**Q15) (Extra credit) Design an entire injection insertion and show the resulting optics.**\n",
    "- Add a reversed version of \"MATCHsection\" at the end of the \"injsection\" beamline under the \"Lattice\" tab and rerun the simulation under the \"Visualization\" tab.\n",
    "1. Switch to the \"Lattice\" tab, hover your mouse over the \"injsection\" beamline and click \"Edit\".\n",
    "2. The beam line consists of two other lines \"FODOcell\" and \"MATCHsection\". You can see their elements by examining them in the beamline list or by right-clicking on them in the \"Beamline Editor\" window and selecting \"Unpack\".\n",
    "3. Add elements to \"injection\" by examining the existing sequence, flipping the order of the elements and appending them in this reversed order, e.g. you would modify a line \"A, B, C\" by sequentially adding elements \"C\", \"B\", and \"A\" to get \"A, B, C, C, B, A\". Note that drifts count as elements.\n",
    "4. Switch to the \"Visualization\" section. Under the simulation status, keep \"MATCHsection\" selected as a beamline. The command file is setup to start with that beamline and then to automatically continue on \"injsection\".\n",
    "5. Click \"Start New Simulation\". In the \"twiss_output3\" window, you should now see a plot of the $\\beta$ functions of an insertion connecting regular FODO lattice to an injection section and then back to regular \"FODO\" lattice. Attach that graph here."
   ]
  },
  {
   "cell_type": "code",
   "execution_count": null,
   "metadata": {},
   "outputs": [],
   "source": []
  }
 ],
 "metadata": {
  "kernelspec": {
   "display_name": "Python 3",
   "language": "python",
   "name": "py3"
  },
  "language_info": {
   "codemirror_mode": {
    "name": "ipython",
    "version": 3
   },
   "file_extension": ".py",
   "mimetype": "text/x-python",
   "name": "python",
   "nbconvert_exporter": "python",
   "pygments_lexer": "ipython3",
   "version": "3.7.2"
  }
 },
 "nbformat": 4,
 "nbformat_minor": 4
}
